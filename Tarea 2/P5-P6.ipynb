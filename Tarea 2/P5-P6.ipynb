{
 "cells": [
  {
   "cell_type": "code",
   "execution_count": 2,
   "metadata": {},
   "outputs": [
    {
     "ename": "ModuleNotFoundError",
     "evalue": "No module named 'SciencePlots'",
     "output_type": "error",
     "traceback": [
      "\u001b[0;31m---------------------------------------------------------------------------\u001b[0m",
      "\u001b[0;31mModuleNotFoundError\u001b[0m                       Traceback (most recent call last)",
      "Cell \u001b[0;32mIn[2], line 6\u001b[0m\n\u001b[1;32m      4\u001b[0m \u001b[38;5;28;01mimport\u001b[39;00m \u001b[38;5;21;01mcamb\u001b[39;00m\n\u001b[1;32m      5\u001b[0m \u001b[38;5;28;01mfrom\u001b[39;00m \u001b[38;5;21;01mscipy\u001b[39;00m\u001b[38;5;21;01m.\u001b[39;00m\u001b[38;5;21;01mintegrate\u001b[39;00m \u001b[38;5;28;01mimport\u001b[39;00m quad\n\u001b[0;32m----> 6\u001b[0m \u001b[38;5;28;01mimport\u001b[39;00m \u001b[38;5;21;01mSciencePlots\u001b[39;00m\n",
      "\u001b[0;31mModuleNotFoundError\u001b[0m: No module named 'SciencePlots'"
     ]
    }
   ],
   "source": [
    "# se importan librerías\n",
    "import numpy as np\n",
    "import matplotlib.pyplot as plt\n",
    "import camb\n",
    "from scipy.integrate import quad\n",
    "#import SciencePlots"
   ]
  },
  {
   "cell_type": "code",
   "execution_count": 8,
   "metadata": {},
   "outputs": [
    {
     "data": {
      "text/plain": [
       "class: <CAMBparams>\n",
       " WantCls = True\n",
       " WantTransfer = False\n",
       " WantScalars = True\n",
       " WantTensors = False\n",
       " WantVectors = False\n",
       " WantDerivedParameters = True\n",
       " Want_cl_2D_array = True\n",
       " Want_CMB = True\n",
       " Want_CMB_lensing = True\n",
       " DoLensing = True\n",
       " NonLinear = NonLinear_none\n",
       " Transfer: <TransferParams>\n",
       "   high_precision = False\n",
       "   accurate_massive_neutrinos = False\n",
       "   kmax = 0.9\n",
       "   k_per_logint = 0\n",
       "   PK_num_redshifts = 1\n",
       "   PK_redshifts = [0.0]\n",
       " want_zstar = False\n",
       " want_zdrag = False\n",
       " min_l = 2\n",
       " max_l = 2500\n",
       " max_l_tensor = 600\n",
       " max_eta_k = 5000.0\n",
       " max_eta_k_tensor = 1200.0\n",
       " ombh2 = 0.0224\n",
       " omch2 = 0.12\n",
       " omk = 0.0\n",
       " omnuh2 = 0.000644866570625114\n",
       " H0 = 67.4\n",
       " TCMB = 2.7255\n",
       " YHe = 0.24586829360147697\n",
       " num_nu_massless = 2.0293333333333337\n",
       " num_nu_massive = 1\n",
       " nu_mass_eigenstates = 1\n",
       " share_delta_neff = False\n",
       " nu_mass_degeneracies = [1.0146666666666666]\n",
       " nu_mass_fractions = [1.0]\n",
       " nu_mass_numbers = [1]\n",
       " InitPower: <InitialPowerLaw>\n",
       "   tensor_parameterization = tensor_param_rpivot\n",
       "   ns = 0.96\n",
       "   nrun = 0.0\n",
       "   nrunrun = 0.0\n",
       "   nt = -0.0\n",
       "   ntrun = -0.0\n",
       "   r = 0.0\n",
       "   pivot_scalar = 0.05\n",
       "   pivot_tensor = 0.05\n",
       "   As = 2e-09\n",
       "   At = 1.0\n",
       " Recomb: <Recfast>\n",
       "   min_a_evolve_Tm = 0.0011098779505118728\n",
       "   RECFAST_fudge = 1.125\n",
       "   RECFAST_fudge_He = 0.86\n",
       "   RECFAST_Heswitch = 6\n",
       "   RECFAST_Hswitch = True\n",
       "   AGauss1 = -0.14\n",
       "   AGauss2 = 0.079\n",
       "   zGauss1 = 7.28\n",
       "   zGauss2 = 6.73\n",
       "   wGauss1 = 0.18\n",
       "   wGauss2 = 0.33\n",
       " Reion: <TanhReionization>\n",
       "   Reionization = True\n",
       "   use_optical_depth = True\n",
       "   redshift = 10.0\n",
       "   optical_depth = 0.054\n",
       "   fraction = -1.0\n",
       "   include_helium_fullreion = True\n",
       "   helium_redshift = 3.5\n",
       "   helium_delta_redshift = 0.4\n",
       "   helium_redshiftstart = 5.5\n",
       "   tau_solve_accuracy_boost = 1.0\n",
       "   timestep_boost = 1.0\n",
       "   max_redshift = 50.0\n",
       "   delta_redshift = 0.5\n",
       " DarkEnergy: <DarkEnergyFluid>\n",
       "   w = -1.0\n",
       "   wa = 0.0\n",
       "   cs2 = 1.0\n",
       "   use_tabulated_w = False\n",
       " NonLinearModel: <Halofit>\n",
       "   Min_kh_nonlinear = 0.005\n",
       "   halofit_version = mead2020\n",
       "   HMCode_A_baryon = 3.13\n",
       "   HMCode_eta_baryon = 0.603\n",
       "   HMCode_logT_AGN = 7.8\n",
       " Accuracy: <AccuracyParams>\n",
       "   AccuracyBoost = 1.0\n",
       "   lSampleBoost = 1.0\n",
       "   lAccuracyBoost = 1.0\n",
       "   AccuratePolarization = True\n",
       "   AccurateBB = False\n",
       "   AccurateReionization = True\n",
       "   TimeStepBoost = 1.0\n",
       "   BackgroundTimeStepBoost = 1.0\n",
       "   IntTolBoost = 1.0\n",
       "   SourcekAccuracyBoost = 1.0\n",
       "   IntkAccuracyBoost = 1.0\n",
       "   TransferkBoost = 1.0\n",
       "   NonFlatIntAccuracyBoost = 1.0\n",
       "   BessIntBoost = 1.0\n",
       "   LensingBoost = 1.0\n",
       "   NonlinSourceBoost = 1.0\n",
       "   BesselBoost = 1.0\n",
       "   LimberBoost = 1.0\n",
       "   SourceLimberBoost = 1.0\n",
       "   KmaxBoost = 1.0\n",
       "   neutrino_q_boost = 1.0\n",
       " SourceTerms: <SourceTermParams>\n",
       "   limber_windows = True\n",
       "   limber_phi_lmin = 100\n",
       "   counts_density = True\n",
       "   counts_redshift = True\n",
       "   counts_lensing = False\n",
       "   counts_velocity = True\n",
       "   counts_radial = False\n",
       "   counts_timedelay = True\n",
       "   counts_ISW = True\n",
       "   counts_potential = True\n",
       "   counts_evolve = False\n",
       "   line_phot_dipole = False\n",
       "   line_phot_quadrupole = False\n",
       "   line_basic = True\n",
       "   line_distortions = True\n",
       "   line_extra = False\n",
       "   line_reionization = False\n",
       "   use_21cm_mK = True\n",
       " z_outputs = []\n",
       " scalar_initial_condition = initial_adiabatic\n",
       " InitialConditionVector = []\n",
       " OutputNormalization = 1\n",
       " Alens = 1.0\n",
       " MassiveNuMethod = Nu_best\n",
       " DoLateRadTruncation = True\n",
       " Evolve_baryon_cs = False\n",
       " Evolve_delta_xe = False\n",
       " Evolve_delta_Ts = False\n",
       " Do21cm = False\n",
       " transfer_21cm_cl = False\n",
       " Log_lvalues = False\n",
       " use_cl_spline_template = True\n",
       " min_l_logl_sampling = 5000\n",
       " SourceWindows = []\n",
       " CustomSources: <CustomSources>\n",
       "   num_custom_sources = 0\n",
       "   c_source_func = None\n",
       "   custom_source_ell_scales = []\n",
       " "
      ]
     },
     "execution_count": 8,
     "metadata": {},
     "output_type": "execute_result"
    }
   ],
   "source": [
    "# constantes cosmológicas a ocupar\n",
    "H0 = 67.4 \n",
    "omega_m = 0.315\n",
    "omega_ch2 = 0.120\n",
    "omega_bh2 = 0.0224\n",
    "tau = 0.054\n",
    "\n",
    "# se crean parámetros\n",
    "pars = camb.CAMBparams()\n",
    "\n",
    "pars.set_cosmology(H0=H0, ombh2=omega_bh2, omch2=omega_ch2, tau=tau)\n",
    "\n",
    "#se generan soluciones dado este set de parámetros\n",
    "#results = camb.get_results(pars)"
   ]
  },
  {
   "cell_type": "code",
   "execution_count": 9,
   "metadata": {},
   "outputs": [
    {
     "name": "stdout",
     "output_type": "stream",
     "text": [
      "Note: redshifts have been re-sorted (earliest first)\n"
     ]
    }
   ],
   "source": [
    "z = np.linspace(0, 10, 100)\n",
    "\n",
    "pars.set_matter_power(z)\n",
    "\n",
    "results = camb.get_results(pars)"
   ]
  },
  {
   "cell_type": "code",
   "execution_count": 11,
   "metadata": {},
   "outputs": [
    {
     "name": "stdout",
     "output_type": "stream",
     "text": [
      "Power spectrum at z=0.5, k/h=0.1/Mpc is 3122.3089293281323 (Mpc/h)^3 \n"
     ]
    }
   ],
   "source": [
    "print('Power spectrum at z=0.5, k/h=0.1/Mpc is %s (Mpc/h)^3 '%(power_spectrum.P(0.5, 0.1)))"
   ]
  },
  {
   "cell_type": "code",
   "execution_count": 10,
   "metadata": {},
   "outputs": [],
   "source": [
    "kh, z1, PK = results.get_linear_matter_power_spectrum(hubble_units=True,\n",
    "                                                      k_hunit=True)"
   ]
  },
  {
   "cell_type": "code",
   "execution_count": 39,
   "metadata": {},
   "outputs": [],
   "source": [
    "khnon, znon, PKnon = results.get_linear_matter_power_spectrum(hubble_units=True,\n",
    "                                                      k_hunit=True, nonlinear=True)"
   ]
  },
  {
   "cell_type": "code",
   "execution_count": 15,
   "metadata": {},
   "outputs": [
    {
     "data": {
      "text/plain": [
       "array([4.76760120e+01, 5.24351857e+01, 5.76694476e+01, 6.34262056e+01,\n",
       "       6.97576006e+01, 7.67210051e+01, 8.43794764e+01, 9.28023950e+01,\n",
       "       1.02066111e+02, 1.12254462e+02, 1.23459735e+02, 1.35783426e+02,\n",
       "       1.49337170e+02, 1.64243638e+02, 1.80637748e+02, 1.98667995e+02,\n",
       "       2.18497447e+02, 2.40305509e+02, 2.64289424e+02, 2.90666141e+02,\n",
       "       3.19673814e+02, 3.51574534e+02, 3.86656170e+02, 4.25235063e+02,\n",
       "       4.67658632e+02, 5.14308689e+02, 5.65604191e+02, 6.22004738e+02,\n",
       "       6.84015220e+02, 7.52188752e+02, 8.27131483e+02, 9.09507113e+02,\n",
       "       1.00004173e+03, 1.09952875e+03, 1.20883426e+03, 1.32890195e+03,\n",
       "       1.46075894e+03, 1.60552027e+03, 1.76439442e+03, 1.93868738e+03,\n",
       "       2.12980691e+03, 2.33926629e+03, 2.56868494e+03, 2.81979048e+03,\n",
       "       3.09441514e+03, 3.39449157e+03, 3.72204174e+03, 4.07915956e+03,\n",
       "       4.46799280e+03, 4.89070214e+03, 5.34943666e+03, 5.84627964e+03,\n",
       "       6.38319021e+03, 6.96193557e+03, 7.58400633e+03, 8.25054073e+03,\n",
       "       8.96220680e+03, 9.71910313e+03, 1.05206110e+04, 1.13652513e+04,\n",
       "       1.22505158e+04, 1.31726938e+04, 1.41266965e+04, 1.51058402e+04,\n",
       "       1.61015622e+04, 1.71037349e+04, 1.80980632e+04, 1.90691425e+04,\n",
       "       1.99999666e+04, 2.08697063e+04, 2.16543860e+04, 2.23276839e+04,\n",
       "       2.28612113e+04, 2.32247519e+04, 2.33879520e+04, 2.33222628e+04,\n",
       "       2.30039079e+04, 2.24178344e+04, 2.15624263e+04, 2.04545959e+04,\n",
       "       1.91341350e+04, 1.76653814e+04, 1.61343586e+04, 1.46397152e+04,\n",
       "       1.32769087e+04, 1.21506339e+04, 1.13222084e+04, 1.06862884e+04,\n",
       "       1.01597030e+04, 9.67806260e+03, 9.18460391e+03, 8.63798943e+03,\n",
       "       8.03360269e+03, 7.39697308e+03, 6.76677136e+03, 6.17745093e+03,\n",
       "       5.53850598e+03, 5.02954288e+03, 4.65580319e+03, 4.39536376e+03,\n",
       "       4.20696534e+03, 4.04578182e+03, 3.87626122e+03, 3.67884178e+03,\n",
       "       3.45123837e+03, 3.20418637e+03, 2.95498604e+03, 2.72279029e+03,\n",
       "       2.52412390e+03, 2.36720072e+03, 2.24933215e+03, 2.16036934e+03,\n",
       "       2.08835189e+03, 2.02197962e+03, 1.95144499e+03, 1.87061914e+03,\n",
       "       1.77920461e+03, 1.68181059e+03, 1.58487783e+03, 1.49437971e+03,\n",
       "       1.41474499e+03, 1.34807533e+03, 1.29383661e+03, 1.24946079e+03,\n",
       "       1.21130954e+03, 1.17544937e+03, 1.13851456e+03, 1.09868790e+03,\n",
       "       1.05605237e+03, 1.01196462e+03, 9.68183476e+02, 9.26445429e+02,\n",
       "       8.88269643e+02, 8.54584485e+02, 8.25383955e+02, 7.99816865e+02,\n",
       "       7.76654520e+02, 7.54717069e+02, 7.33054818e+02, 7.11028414e+02,\n",
       "       6.88411010e+02, 6.65443835e+02, 6.42707199e+02, 6.20846592e+02,\n",
       "       6.00335363e+02, 5.81399492e+02, 5.64058141e+02, 5.48166044e+02,\n",
       "       5.33426955e+02, 5.19446619e+02, 5.05846885e+02, 4.92376637e+02,\n",
       "       4.78953262e+02, 4.65630213e+02, 4.52534453e+02, 4.39815193e+02,\n",
       "       4.27614668e+02, 4.16046639e+02, 4.05161964e+02, 3.94921054e+02,\n",
       "       3.85212930e+02, 3.75914732e+02, 3.66929953e+02, 3.58181405e+02,\n",
       "       3.49603620e+02, 3.41165618e+02, 3.32892329e+02, 3.24842732e+02,\n",
       "       3.17066204e+02, 3.09584395e+02, 3.02402196e+02, 2.95517964e+02,\n",
       "       2.88918467e+02, 2.82571077e+02, 2.76430297e+02, 2.70455678e+02,\n",
       "       2.64625552e+02, 2.58934926e+02, 2.53383907e+02, 2.47972646e+02,\n",
       "       2.42706368e+02, 2.37597571e+02, 2.32657168e+02, 2.27883863e+02,\n",
       "       2.23264645e+02, 2.18785737e+02, 2.14438293e+02, 2.10214914e+02,\n",
       "       2.06104071e+02, 2.02092700e+02, 1.98174526e+02, 1.94352507e+02,\n",
       "       1.90631312e+02, 1.87010208e+02, 1.83484831e+02, 1.80053468e+02,\n",
       "       1.64628691e+02, 1.03938416e+02, 6.43278978e+01, 3.94309577e+01,\n",
       "       2.39596460e+01, 1.44433860e+01])"
      ]
     },
     "execution_count": 15,
     "metadata": {},
     "output_type": "execute_result"
    }
   ],
   "source": [
    "PK[100,:]"
   ]
  },
  {
   "cell_type": "code",
   "execution_count": 21,
   "metadata": {},
   "outputs": [],
   "source": [
    "pk = PK[99,200]"
   ]
  },
  {
   "cell_type": "code",
   "execution_count": 29,
   "metadata": {},
   "outputs": [
    {
     "data": {
      "text/plain": [
       "100"
      ]
     },
     "execution_count": 29,
     "metadata": {},
     "output_type": "execute_result"
    }
   ],
   "source": [
    "len(z1)"
   ]
  },
  {
   "cell_type": "code",
   "execution_count": 38,
   "metadata": {},
   "outputs": [
    {
     "data": {
      "text/plain": [
       "np.float64(10.0)"
      ]
     },
     "execution_count": 38,
     "metadata": {},
     "output_type": "execute_result"
    }
   ],
   "source": [
    "z1[99]"
   ]
  },
  {
   "cell_type": "code",
   "execution_count": 44,
   "metadata": {},
   "outputs": [
    {
     "data": {
      "text/plain": [
       "[<matplotlib.lines.Line2D at 0x710bcbcccad0>]"
      ]
     },
     "execution_count": 44,
     "metadata": {},
     "output_type": "execute_result"
    },
    {
     "data": {
      "image/png": "[encoded data removed]",
      "text/plain": [
       "<Figure size 640x480 with 1 Axes>"
      ]
     },
     "metadata": {},
     "output_type": "display_data"
    }
   ],
   "source": [
    "\n",
    "# para este redshift en 99 plotea\n",
    "plt.loglog(kh, PK[99,:], linestyle = 'dashed')\n",
    "plt.loglog(khnon, PKnon[99, :])\n",
    "plt.loglog(kh, PK[0,:], linestyle = 'dashed')\n",
    "plt.loglog(khnon, PKnon[0, :])"
   ]
  },
  {
   "cell_type": "code",
   "execution_count": 60,
   "metadata": {},
   "outputs": [],
   "source": [
    "powers = results.get_cmb_power_spectra(pars, CMB_unit='muK')"
   ]
  },
  {
   "cell_type": "code",
   "execution_count": 63,
   "metadata": {},
   "outputs": [
    {
     "data": {
      "text/plain": [
       "[<matplotlib.lines.Line2D at 0x710bd4301ca0>]"
      ]
     },
     "execution_count": 63,
     "metadata": {},
     "output_type": "execute_result"
    },
    {
     "data": {
      "image/png": "[encoded data removed]",
      "text/plain": [
       "<Figure size 640x480 with 1 Axes>"
      ]
     },
     "metadata": {},
     "output_type": "display_data"
    }
   ],
   "source": [
    "unlesedCL = powers['unlensed_total']\n",
    "ells = np.arange(unlesedCL[:,1].shape[0])\n",
    "\n",
    "plt.plot(ells, unlesedCL[:,0])"
   ]
  },
  {
   "cell_type": "code",
   "execution_count": 58,
   "metadata": {},
   "outputs": [
    {
     "ename": "TypeError",
     "evalue": "only length-1 arrays can be converted to Python scalars",
     "output_type": "error",
     "traceback": [
      "\u001b[0;31m---------------------------------------------------------------------------\u001b[0m",
      "\u001b[0;31mTypeError\u001b[0m                                 Traceback (most recent call last)",
      "Cell \u001b[0;32mIn[58], line 1\u001b[0m\n\u001b[0;32m----> 1\u001b[0m \u001b[43mplt\u001b[49m\u001b[38;5;241;43m.\u001b[39;49m\u001b[43mfigure\u001b[49m\u001b[43m(\u001b[49m\u001b[43mells\u001b[49m\u001b[43m,\u001b[49m\u001b[43m \u001b[49m\u001b[43munlesedCL\u001b[49m\u001b[43m[\u001b[49m\u001b[43m:\u001b[49m\u001b[43m,\u001b[49m\u001b[38;5;241;43m0\u001b[39;49m\u001b[43m]\u001b[49m\u001b[43m)\u001b[49m\n",
      "File \u001b[0;32m~/miniconda3/lib/python3.12/site-packages/matplotlib/pyplot.py:1011\u001b[0m, in \u001b[0;36mfigure\u001b[0;34m(num, figsize, dpi, facecolor, edgecolor, frameon, FigureClass, clear, **kwargs)\u001b[0m\n\u001b[1;32m   1009\u001b[0m         num \u001b[38;5;241m=\u001b[39m allnums[inum]\n\u001b[1;32m   1010\u001b[0m \u001b[38;5;28;01melse\u001b[39;00m:\n\u001b[0;32m-> 1011\u001b[0m     num \u001b[38;5;241m=\u001b[39m \u001b[38;5;28;43mint\u001b[39;49m\u001b[43m(\u001b[49m\u001b[43mnum\u001b[49m\u001b[43m)\u001b[49m  \u001b[38;5;66;03m# crude validation of num argument\u001b[39;00m\n\u001b[1;32m   1013\u001b[0m \u001b[38;5;66;03m# Type of \"num\" has narrowed to int, but mypy can't quite see it\u001b[39;00m\n\u001b[1;32m   1014\u001b[0m manager \u001b[38;5;241m=\u001b[39m _pylab_helpers\u001b[38;5;241m.\u001b[39mGcf\u001b[38;5;241m.\u001b[39mget_fig_manager(num)  \u001b[38;5;66;03m# type: ignore[arg-type]\u001b[39;00m\n",
      "\u001b[0;31mTypeError\u001b[0m: only length-1 arrays can be converted to Python scalars"
     ]
    }
   ],
   "source": [
    "plt.figure(ells, unlesedCL[:,0])"
   ]
  },
  {
   "cell_type": "code",
   "execution_count": 55,
   "metadata": {},
   "outputs": [
    {
     "data": {
      "text/plain": [
       "array([   0,    1,    2, ..., 2398, 2399, 2400])"
      ]
     },
     "execution_count": 55,
     "metadata": {},
     "output_type": "execute_result"
    }
   ],
   "source": [
    "ells"
   ]
  },
  {
   "cell_type": "code",
   "execution_count": 57,
   "metadata": {},
   "outputs": [
    {
     "data": {
      "text/plain": [
       "array([0.00000000e+00, 0.00000000e+00, 1.34274705e-10, ...,\n",
       "       1.32200211e-11, 1.31935213e-11, 1.31664561e-11])"
      ]
     },
     "execution_count": 57,
     "metadata": {},
     "output_type": "execute_result"
    }
   ],
   "source": [
    "unlesedCL[:,0]"
   ]
  }
 ],
 "metadata": {
  "kernelspec": {
   "display_name": "base",
   "language": "python",
   "name": "python3"
  },
  "language_info": {
   "codemirror_mode": {
    "name": "ipython",
    "version": 3
   },
   "file_extension": ".py",
   "mimetype": "text/x-python",
   "name": "python",
   "nbconvert_exporter": "python",
   "pygments_lexer": "ipython3",
   "version": "3.12.5"
  }
 },
 "nbformat": 4,
 "nbformat_minor": 2
}
